{
 "cells": [
  {
   "cell_type": "markdown",
   "id": "4fe6270d-0f4b-4692-8336-2f9fd6f39b67",
   "metadata": {},
   "source": [
    "## Double Quote"
   ]
  },
  {
   "cell_type": "markdown",
   "id": "8c923046-f230-4c89-ad4c-1f19c7bd86cf",
   "metadata": {},
   "source": [
    "This is used to write a longer sentence\n"
   ]
  },
  {
   "cell_type": "code",
   "execution_count": 3,
   "id": "ef804750-f1dc-468e-b15f-b41313a4ce51",
   "metadata": {},
   "outputs": [],
   "source": [
    "my_info = \"the king's daughter is Alima\""
   ]
  },
  {
   "cell_type": "code",
   "execution_count": 4,
   "id": "a1df7128-c29c-41fc-bc10-39afbf7b3ea5",
   "metadata": {},
   "outputs": [],
   "source": [
    "my_info2 = \"the king's daughter is Alima\""
   ]
  },
  {
   "cell_type": "code",
   "execution_count": 5,
   "id": "ef1c6c53-581c-491f-89e5-481e0583341f",
   "metadata": {},
   "outputs": [
    {
     "data": {
      "text/plain": [
       "\"the king's daughter is Alima\""
      ]
     },
     "execution_count": 5,
     "metadata": {},
     "output_type": "execute_result"
    }
   ],
   "source": [
    "my_info"
   ]
  },
  {
   "cell_type": "code",
   "execution_count": 6,
   "id": "edff38fd-e794-4761-ac9f-d02b251dd994",
   "metadata": {},
   "outputs": [
    {
     "data": {
      "text/plain": [
       "\"the king's daughter is Alima\""
      ]
     },
     "execution_count": 6,
     "metadata": {},
     "output_type": "execute_result"
    }
   ],
   "source": [
    "my_info2"
   ]
  },
  {
   "cell_type": "markdown",
   "id": "2b05208c-fa7d-454e-9997-889e4cebfb23",
   "metadata": {},
   "source": [
    "## Triple Quote"
   ]
  },
  {
   "cell_type": "markdown",
   "id": "f07f2cb5-28f2-4bc6-b04f-83748fc3edab",
   "metadata": {},
   "source": [
    "This is used to write text on different lines"
   ]
  },
  {
   "cell_type": "code",
   "execution_count": 9,
   "id": "861a409b-6e35-4bc1-ba44-4e94c4874cca",
   "metadata": {},
   "outputs": [],
   "source": [
    "pluralcode = '''PC is a tech education centre they offer training services to tech lovers.'''"
   ]
  },
  {
   "cell_type": "code",
   "execution_count": 10,
   "id": "321d645b-b780-4332-a238-8065d62cef46",
   "metadata": {},
   "outputs": [
    {
     "data": {
      "text/plain": [
       "'PC is a tech education centre they offer training services to tech lovers.'"
      ]
     },
     "execution_count": 10,
     "metadata": {},
     "output_type": "execute_result"
    }
   ],
   "source": [
    "pluralcode"
   ]
  },
  {
   "cell_type": "markdown",
   "id": "a21e0d40-4e66-4233-be42-085994bb42ff",
   "metadata": {},
   "source": [
    "## String contatenation (+)\n",
    "\n",
    "This means bringing 2 strings together"
   ]
  },
  {
   "cell_type": "code",
   "execution_count": 12,
   "id": "5aa83127-fb95-4780-95bf-e172e7fc29a6",
   "metadata": {},
   "outputs": [
    {
     "name": "stdout",
     "output_type": "stream",
     "text": [
      "soky\n",
      "olakunle\n"
     ]
    }
   ],
   "source": [
    "string1 = \"olakunle\"\n",
    "string2 = \"soky\"\n",
    "print(string2)\n",
    "print(string1)"
   ]
  },
  {
   "cell_type": "code",
   "execution_count": 13,
   "id": "7e7c8e46-5d50-48f9-a475-20e218cb8a50",
   "metadata": {},
   "outputs": [],
   "source": [
    "string3 = string2+\" \"+string1"
   ]
  },
  {
   "cell_type": "code",
   "execution_count": 14,
   "id": "afcf9ac9-ae08-4da3-8162-cc4cae5aea6e",
   "metadata": {},
   "outputs": [
    {
     "name": "stdout",
     "output_type": "stream",
     "text": [
      "soky olakunle\n"
     ]
    }
   ],
   "source": [
    "print(string3)"
   ]
  },
  {
   "cell_type": "code",
   "execution_count": 15,
   "id": "e324e755-dd3c-4ed1-a6bd-c757c4ff726c",
   "metadata": {},
   "outputs": [],
   "source": [
    "string3 = string2+ ' ' +string1"
   ]
  },
  {
   "cell_type": "code",
   "execution_count": 16,
   "id": "a8063a13-5d1c-44ee-bcea-ee07b15289bb",
   "metadata": {},
   "outputs": [
    {
     "data": {
      "text/plain": [
       "'soky olakunle'"
      ]
     },
     "execution_count": 16,
     "metadata": {},
     "output_type": "execute_result"
    }
   ],
   "source": [
    "string3"
   ]
  },
  {
   "cell_type": "code",
   "execution_count": 17,
   "id": "2d8f3295-65c9-43c7-9d79-53c246ff25a8",
   "metadata": {},
   "outputs": [],
   "source": [
    "first_name = 'bobby'\n",
    "last_name = 'smith'\n",
    "full_name = first_name + ' ' + last_name"
   ]
  },
  {
   "cell_type": "code",
   "execution_count": 18,
   "id": "8f2d00c9-7067-4937-884a-3ae275f5e4d6",
   "metadata": {},
   "outputs": [],
   "source": [
    "first_name = 'bobby'\n",
    "last_name = 'smith'\n",
    "second_name = 'austin'\n",
    "full_name2 = first_name + ' ' + last_name + ' ' + second_name"
   ]
  },
  {
   "cell_type": "code",
   "execution_count": 19,
   "id": "309dbc59-9528-4bad-8c74-9da468c0de8e",
   "metadata": {},
   "outputs": [
    {
     "data": {
      "text/plain": [
       "'bobby smith austin'"
      ]
     },
     "execution_count": 19,
     "metadata": {},
     "output_type": "execute_result"
    }
   ],
   "source": [
    "full_name2"
   ]
  },
  {
   "cell_type": "code",
   "execution_count": 20,
   "id": "ece119a0-145a-435f-ab1a-b11ae934a8da",
   "metadata": {},
   "outputs": [
    {
     "data": {
      "text/plain": [
       "'bobby smith'"
      ]
     },
     "execution_count": 20,
     "metadata": {},
     "output_type": "execute_result"
    }
   ],
   "source": [
    "first_name + ' ' + last_name"
   ]
  },
  {
   "cell_type": "code",
   "execution_count": 21,
   "id": "dadd7f6a-617e-44e1-bc45-5062dc6525c3",
   "metadata": {},
   "outputs": [
    {
     "data": {
      "text/plain": [
       "'bobby smith austin'"
      ]
     },
     "execution_count": 21,
     "metadata": {},
     "output_type": "execute_result"
    }
   ],
   "source": [
    "first_name + ' ' + last_name + ' ' + second_name"
   ]
  },
  {
   "cell_type": "code",
   "execution_count": null,
   "id": "6323efec-e39c-4f7d-ad88-156d550db973",
   "metadata": {},
   "outputs": [],
   "source": []
  },
  {
   "cell_type": "markdown",
   "id": "745d1574-a6f8-436d-b31b-fd40172c7461",
   "metadata": {},
   "source": [
    "## String Slicing and Indexing\n",
    "## Indexing"
   ]
  },
  {
   "cell_type": "code",
   "execution_count": 23,
   "id": "def866f8-6bd3-4f97-8bcf-c7296309a507",
   "metadata": {},
   "outputs": [
    {
     "data": {
      "text/plain": [
       "'a'"
      ]
     },
     "execution_count": 23,
     "metadata": {},
     "output_type": "execute_result"
    }
   ],
   "source": [
    "full_name2[12]"
   ]
  },
  {
   "cell_type": "markdown",
   "id": "15e69493-b802-4b02-a263-b11909698ad4",
   "metadata": {},
   "source": [
    "## Slicing"
   ]
  },
  {
   "cell_type": "code",
   "execution_count": 25,
   "id": "0bf78bc3-c460-4164-b2a2-75f5da2dd99a",
   "metadata": {},
   "outputs": [
    {
     "data": {
      "text/plain": [
       "'bo'"
      ]
     },
     "execution_count": 25,
     "metadata": {},
     "output_type": "execute_result"
    }
   ],
   "source": [
    "full_name[0:2]"
   ]
  },
  {
   "cell_type": "code",
   "execution_count": 26,
   "id": "f6f97157-57f9-4de8-8a6f-ddba85c8cbdd",
   "metadata": {},
   "outputs": [
    {
     "data": {
      "text/plain": [
       "' smith austi'"
      ]
     },
     "execution_count": 26,
     "metadata": {},
     "output_type": "execute_result"
    }
   ],
   "source": [
    "full_name2[5:17]"
   ]
  },
  {
   "cell_type": "markdown",
   "id": "150d8be8-8d91-4c6c-ab18-13e730141ab0",
   "metadata": {},
   "source": [
    "## Negative Indexing"
   ]
  },
  {
   "cell_type": "code",
   "execution_count": 28,
   "id": "34da4fea-eef3-41e1-904e-5a55122443c8",
   "metadata": {},
   "outputs": [
    {
     "data": {
      "text/plain": [
       "'austin'"
      ]
     },
     "execution_count": 28,
     "metadata": {},
     "output_type": "execute_result"
    }
   ],
   "source": [
    "full_name2[-6:]"
   ]
  },
  {
   "cell_type": "markdown",
   "id": "711deee6-be92-481d-8f7d-18b7b5626d2a",
   "metadata": {},
   "source": [
    "## Styling your string"
   ]
  },
  {
   "cell_type": "code",
   "execution_count": 30,
   "id": "cc81f953-ecb9-43e5-9517-acef1b600aee",
   "metadata": {},
   "outputs": [
    {
     "data": {
      "text/plain": [
       "'BOBBY SMITH AUSTIN'"
      ]
     },
     "execution_count": 30,
     "metadata": {},
     "output_type": "execute_result"
    }
   ],
   "source": [
    "full_name2.upper()"
   ]
  },
  {
   "cell_type": "code",
   "execution_count": 31,
   "id": "aa87eb9e-a898-4155-91d5-3d31aabd2e1c",
   "metadata": {},
   "outputs": [
    {
     "data": {
      "text/plain": [
       "'bobby smith austin'"
      ]
     },
     "execution_count": 31,
     "metadata": {},
     "output_type": "execute_result"
    }
   ],
   "source": [
    "full_name2.lower()"
   ]
  },
  {
   "cell_type": "code",
   "execution_count": 32,
   "id": "56ffa896-a56a-44eb-b2fd-ffc7f317f14b",
   "metadata": {},
   "outputs": [
    {
     "data": {
      "text/plain": [
       "'pluralcode'"
      ]
     },
     "execution_count": 32,
     "metadata": {},
     "output_type": "execute_result"
    }
   ],
   "source": [
    "\" pluralcode \".strip()"
   ]
  },
  {
   "cell_type": "markdown",
   "id": "90766d80-d02f-45cf-beaf-e64be7072cd0",
   "metadata": {},
   "source": [
    "## Formatted String"
   ]
  },
  {
   "cell_type": "code",
   "execution_count": 34,
   "id": "14d1b299-f0e8-4531-a048-bfc3c388f67a",
   "metadata": {},
   "outputs": [
    {
     "data": {
      "text/plain": [
       "'i am 47 years old'"
      ]
     },
     "execution_count": 34,
     "metadata": {},
     "output_type": "execute_result"
    }
   ],
   "source": [
    "age = 47\n",
    "message = f'i am {age} years old'\n",
    "message"
   ]
  },
  {
   "cell_type": "code",
   "execution_count": 35,
   "id": "a75b18a1-2244-426b-b188-ee72b080730c",
   "metadata": {},
   "outputs": [
    {
     "data": {
      "text/plain": [
       "'i am 46 years old'"
      ]
     },
     "execution_count": 35,
     "metadata": {},
     "output_type": "execute_result"
    }
   ],
   "source": [
    "age = 23 * 2 \n",
    "message = f'i am {age} years old'\n",
    "message"
   ]
  },
  {
   "cell_type": "markdown",
   "id": "6822aaad-1024-4252-9158-8e1c91934e6c",
   "metadata": {},
   "source": [
    "## Integers"
   ]
  },
  {
   "cell_type": "code",
   "execution_count": 37,
   "id": "28b43cd7-81f3-4f38-81df-1a025f6859bd",
   "metadata": {},
   "outputs": [
    {
     "data": {
      "text/plain": [
       "int"
      ]
     },
     "execution_count": 37,
     "metadata": {},
     "output_type": "execute_result"
    }
   ],
   "source": [
    "score = 50\n",
    "type(score)"
   ]
  },
  {
   "cell_type": "code",
   "execution_count": 38,
   "id": "99661de7-49c1-4102-93f0-f8f945efc860",
   "metadata": {},
   "outputs": [
    {
     "data": {
      "text/plain": [
       "int"
      ]
     },
     "execution_count": 38,
     "metadata": {},
     "output_type": "execute_result"
    }
   ],
   "source": [
    "score_ = -7\n",
    "type(score)"
   ]
  },
  {
   "cell_type": "code",
   "execution_count": 39,
   "id": "6175dfb9-c704-4d43-95b1-2bc8a10724ea",
   "metadata": {},
   "outputs": [
    {
     "data": {
      "text/plain": [
       "float"
      ]
     },
     "execution_count": 39,
     "metadata": {},
     "output_type": "execute_result"
    }
   ],
   "source": [
    "score = 0.1\n",
    "type(score)"
   ]
  },
  {
   "cell_type": "markdown",
   "id": "11520cd0-34b7-434d-91b4-0ba8199551da",
   "metadata": {},
   "source": [
    "## Arithmetic Calculation with int"
   ]
  },
  {
   "cell_type": "code",
   "execution_count": 41,
   "id": "0660b08e-4760-4767-b132-0b1ef44f3999",
   "metadata": {},
   "outputs": [],
   "source": [
    "## Addition,Subtraction,division and floor division operator"
   ]
  },
  {
   "cell_type": "code",
   "execution_count": 42,
   "id": "bd4cb7c1-9484-49b1-ae75-f8c1a006bfe8",
   "metadata": {},
   "outputs": [
    {
     "data": {
      "text/plain": [
       "60"
      ]
     },
     "execution_count": 42,
     "metadata": {},
     "output_type": "execute_result"
    }
   ],
   "source": [
    "10+20+30"
   ]
  },
  {
   "cell_type": "code",
   "execution_count": 43,
   "id": "c0ce7e83-3a4f-4024-9870-77fac32f3715",
   "metadata": {},
   "outputs": [
    {
     "data": {
      "text/plain": [
       "28.0"
      ]
     },
     "execution_count": 43,
     "metadata": {},
     "output_type": "execute_result"
    }
   ],
   "source": [
    "56/2"
   ]
  },
  {
   "cell_type": "code",
   "execution_count": 44,
   "id": "00d5ea4c-8f47-4ad3-a7bb-32a1d844caab",
   "metadata": {},
   "outputs": [],
   "source": [
    "## Floor division"
   ]
  },
  {
   "cell_type": "code",
   "execution_count": 45,
   "id": "1be34220-4533-40ad-9a85-1fd7953cb699",
   "metadata": {},
   "outputs": [
    {
     "data": {
      "text/plain": [
       "27"
      ]
     },
     "execution_count": 45,
     "metadata": {},
     "output_type": "execute_result"
    }
   ],
   "source": [
    "55//2"
   ]
  },
  {
   "cell_type": "code",
   "execution_count": 46,
   "id": "55105953-ac00-48b1-b0d1-01dcc17c3d40",
   "metadata": {},
   "outputs": [],
   "source": [
    "## Division"
   ]
  },
  {
   "cell_type": "code",
   "execution_count": 47,
   "id": "d78e4add-5f00-4021-8826-75f6e76e9ba8",
   "metadata": {},
   "outputs": [
    {
     "data": {
      "text/plain": [
       "27.5"
      ]
     },
     "execution_count": 47,
     "metadata": {},
     "output_type": "execute_result"
    }
   ],
   "source": [
    "55/2"
   ]
  },
  {
   "cell_type": "code",
   "execution_count": 48,
   "id": "14bb7293-e22f-420a-9f70-17b74c92791e",
   "metadata": {},
   "outputs": [],
   "source": [
    "## Modulo"
   ]
  },
  {
   "cell_type": "code",
   "execution_count": 49,
   "id": "5614ab54-1ed5-4d07-8d2e-718a38d03a7d",
   "metadata": {},
   "outputs": [
    {
     "data": {
      "text/plain": [
       "1"
      ]
     },
     "execution_count": 49,
     "metadata": {},
     "output_type": "execute_result"
    }
   ],
   "source": [
    "9%2"
   ]
  },
  {
   "cell_type": "code",
   "execution_count": 50,
   "id": "e6e7e2d4-d32f-4922-ac0c-ec62c724ec35",
   "metadata": {},
   "outputs": [
    {
     "data": {
      "text/plain": [
       "28"
      ]
     },
     "execution_count": 50,
     "metadata": {},
     "output_type": "execute_result"
    }
   ],
   "source": [
    "round(55/2)"
   ]
  },
  {
   "cell_type": "code",
   "execution_count": 51,
   "id": "1573e684-9504-4bee-a55d-19c0553cdb86",
   "metadata": {},
   "outputs": [
    {
     "data": {
      "text/plain": [
       "1"
      ]
     },
     "execution_count": 51,
     "metadata": {},
     "output_type": "execute_result"
    }
   ],
   "source": [
    "7%2"
   ]
  },
  {
   "cell_type": "code",
   "execution_count": 52,
   "id": "300bc25b-9ae2-44c0-afa0-478587f665e6",
   "metadata": {},
   "outputs": [
    {
     "data": {
      "text/plain": [
       "3.5"
      ]
     },
     "execution_count": 52,
     "metadata": {},
     "output_type": "execute_result"
    }
   ],
   "source": [
    "7/2"
   ]
  },
  {
   "cell_type": "code",
   "execution_count": 53,
   "id": "25e1fd44-4725-47b8-a776-331be0273d7d",
   "metadata": {},
   "outputs": [
    {
     "data": {
      "text/plain": [
       "27.5"
      ]
     },
     "execution_count": 53,
     "metadata": {},
     "output_type": "execute_result"
    }
   ],
   "source": [
    "55/2"
   ]
  },
  {
   "cell_type": "markdown",
   "id": "2a0f200d-613b-4bfd-8b68-b998a6d098d6",
   "metadata": {},
   "source": [
    "## 30/12/2024"
   ]
  },
  {
   "cell_type": "code",
   "execution_count": 55,
   "id": "c30baa9a-cc84-41da-bebd-3ced67a7d0e6",
   "metadata": {},
   "outputs": [],
   "source": [
    "## List"
   ]
  },
  {
   "cell_type": "code",
   "execution_count": 56,
   "id": "adfd1f9b-7ae9-4c51-92c1-6212814a8bb8",
   "metadata": {},
   "outputs": [],
   "source": [
    "student_names = [\"olakunle\" , \"soky\" , \"godwill\" , \"aj\" , \"nuel\" , \"shakira\" , \"better\" , \"prince\" , \"kate\" , \"oye\" , \"wura\"]"
   ]
  },
  {
   "cell_type": "code",
   "execution_count": 57,
   "id": "c457663f-c7d7-418c-a1e5-f0af4dfd6555",
   "metadata": {},
   "outputs": [
    {
     "data": {
      "text/plain": [
       "['olakunle',\n",
       " 'soky',\n",
       " 'godwill',\n",
       " 'aj',\n",
       " 'nuel',\n",
       " 'shakira',\n",
       " 'better',\n",
       " 'prince',\n",
       " 'kate',\n",
       " 'oye',\n",
       " 'wura']"
      ]
     },
     "execution_count": 57,
     "metadata": {},
     "output_type": "execute_result"
    }
   ],
   "source": [
    "student_names"
   ]
  },
  {
   "cell_type": "code",
   "execution_count": 58,
   "id": "29dd6964-e11b-4cc7-9e3c-97ce07297766",
   "metadata": {},
   "outputs": [
    {
     "data": {
      "text/plain": [
       "11"
      ]
     },
     "execution_count": 58,
     "metadata": {},
     "output_type": "execute_result"
    }
   ],
   "source": [
    "len(student_names)"
   ]
  },
  {
   "cell_type": "code",
   "execution_count": 59,
   "id": "1dbb8d26-65bc-4386-996b-47de1848b759",
   "metadata": {},
   "outputs": [
    {
     "data": {
      "text/plain": [
       "'nuel'"
      ]
     },
     "execution_count": 59,
     "metadata": {},
     "output_type": "execute_result"
    }
   ],
   "source": [
    "student_names[4]"
   ]
  },
  {
   "cell_type": "code",
   "execution_count": 60,
   "id": "e8affaef-5b91-4eb4-98df-e7042b4989b4",
   "metadata": {},
   "outputs": [
    {
     "data": {
      "text/plain": [
       "'better'"
      ]
     },
     "execution_count": 60,
     "metadata": {},
     "output_type": "execute_result"
    }
   ],
   "source": [
    "student_names[-5]"
   ]
  },
  {
   "cell_type": "code",
   "execution_count": 61,
   "id": "efc2f63d-d41a-42fc-b06a-5d7e7bf3375b",
   "metadata": {},
   "outputs": [
    {
     "data": {
      "text/plain": [
       "['shakira', 'better', 'prince', 'kate', 'oye', 'wura']"
      ]
     },
     "execution_count": 61,
     "metadata": {},
     "output_type": "execute_result"
    }
   ],
   "source": [
    "student_names[5:]"
   ]
  },
  {
   "cell_type": "code",
   "execution_count": 62,
   "id": "b1097c0b-3430-4411-87bf-79391d6c3ba3",
   "metadata": {},
   "outputs": [
    {
     "data": {
      "text/plain": [
       "['olakunle', 'soky', 'godwill', 'aj', 'nuel']"
      ]
     },
     "execution_count": 62,
     "metadata": {},
     "output_type": "execute_result"
    }
   ],
   "source": [
    "student_names[:5]"
   ]
  },
  {
   "cell_type": "markdown",
   "id": "87f36a59-b38e-493d-bebc-6c8b9f709f9c",
   "metadata": {},
   "source": [
    "## Changing values in a list"
   ]
  },
  {
   "cell_type": "code",
   "execution_count": 64,
   "id": "938c0a0b-1b7c-4de7-b36e-504c50dcf9d6",
   "metadata": {},
   "outputs": [],
   "source": [
    "student_names[-3] = \"princess\""
   ]
  },
  {
   "cell_type": "code",
   "execution_count": 65,
   "id": "267cc747-969f-4182-9063-0a158a695958",
   "metadata": {},
   "outputs": [
    {
     "data": {
      "text/plain": [
       "['olakunle',\n",
       " 'soky',\n",
       " 'godwill',\n",
       " 'aj',\n",
       " 'nuel',\n",
       " 'shakira',\n",
       " 'better',\n",
       " 'prince',\n",
       " 'princess',\n",
       " 'oye',\n",
       " 'wura']"
      ]
     },
     "execution_count": 65,
     "metadata": {},
     "output_type": "execute_result"
    }
   ],
   "source": [
    "student_names"
   ]
  },
  {
   "cell_type": "markdown",
   "id": "ce32fbb2-3d76-4354-bc57-38ce172b7d0e",
   "metadata": {},
   "source": [
    "## Using list inbuilt syntax"
   ]
  },
  {
   "cell_type": "code",
   "execution_count": 67,
   "id": "3901cf04-d1f4-47bb-878c-bfea4534e64e",
   "metadata": {},
   "outputs": [],
   "source": [
    "## Append"
   ]
  },
  {
   "cell_type": "code",
   "execution_count": 68,
   "id": "6706ae1f-14a5-409d-ad3c-8bb6890c7e7f",
   "metadata": {},
   "outputs": [],
   "source": [
    "student_names.append(\"dami\")"
   ]
  },
  {
   "cell_type": "code",
   "execution_count": 69,
   "id": "1f7d14da-e9ee-4a51-94f2-82ceaf19902d",
   "metadata": {},
   "outputs": [
    {
     "data": {
      "text/plain": [
       "['olakunle',\n",
       " 'soky',\n",
       " 'godwill',\n",
       " 'aj',\n",
       " 'nuel',\n",
       " 'shakira',\n",
       " 'better',\n",
       " 'prince',\n",
       " 'princess',\n",
       " 'oye',\n",
       " 'wura',\n",
       " 'dami']"
      ]
     },
     "execution_count": 69,
     "metadata": {},
     "output_type": "execute_result"
    }
   ],
   "source": [
    "student_names"
   ]
  },
  {
   "cell_type": "code",
   "execution_count": 70,
   "id": "324cfbcb-f164-4ce2-baf9-24da99eea05b",
   "metadata": {},
   "outputs": [],
   "source": [
    "student_names.append(\"506\")"
   ]
  },
  {
   "cell_type": "code",
   "execution_count": 71,
   "id": "e5217468-af34-4e58-b41f-a70df649648f",
   "metadata": {},
   "outputs": [
    {
     "data": {
      "text/plain": [
       "['olakunle',\n",
       " 'soky',\n",
       " 'godwill',\n",
       " 'aj',\n",
       " 'nuel',\n",
       " 'shakira',\n",
       " 'better',\n",
       " 'prince',\n",
       " 'princess',\n",
       " 'oye',\n",
       " 'wura',\n",
       " 'dami',\n",
       " '506']"
      ]
     },
     "execution_count": 71,
     "metadata": {},
     "output_type": "execute_result"
    }
   ],
   "source": [
    "student_names"
   ]
  },
  {
   "cell_type": "code",
   "execution_count": 72,
   "id": "a2ec3f0f-8514-406c-a194-61590638d487",
   "metadata": {},
   "outputs": [],
   "source": [
    "student_names[-2] = \"tomisin\""
   ]
  },
  {
   "cell_type": "code",
   "execution_count": 73,
   "id": "f1172cc0-c6a3-4538-8635-5ea50f90d566",
   "metadata": {},
   "outputs": [
    {
     "data": {
      "text/plain": [
       "['olakunle',\n",
       " 'soky',\n",
       " 'godwill',\n",
       " 'aj',\n",
       " 'nuel',\n",
       " 'shakira',\n",
       " 'better',\n",
       " 'prince',\n",
       " 'princess',\n",
       " 'oye',\n",
       " 'wura',\n",
       " 'tomisin',\n",
       " '506']"
      ]
     },
     "execution_count": 73,
     "metadata": {},
     "output_type": "execute_result"
    }
   ],
   "source": [
    "student_names"
   ]
  },
  {
   "cell_type": "code",
   "execution_count": 74,
   "id": "72f44879-5412-4a1e-ac2b-96ab49c4fd40",
   "metadata": {},
   "outputs": [],
   "source": [
    "## Insert"
   ]
  },
  {
   "cell_type": "code",
   "execution_count": 75,
   "id": "da516968-80e5-4610-b20f-8216b9113fe9",
   "metadata": {},
   "outputs": [],
   "source": [
    "student_names.insert(1, \"rhoda\")"
   ]
  },
  {
   "cell_type": "code",
   "execution_count": 76,
   "id": "93f760db-4e62-49c8-82bc-dd23549f5330",
   "metadata": {},
   "outputs": [
    {
     "data": {
      "text/plain": [
       "['olakunle',\n",
       " 'rhoda',\n",
       " 'soky',\n",
       " 'godwill',\n",
       " 'aj',\n",
       " 'nuel',\n",
       " 'shakira',\n",
       " 'better',\n",
       " 'prince',\n",
       " 'princess',\n",
       " 'oye',\n",
       " 'wura',\n",
       " 'tomisin',\n",
       " '506']"
      ]
     },
     "execution_count": 76,
     "metadata": {},
     "output_type": "execute_result"
    }
   ],
   "source": [
    "student_names"
   ]
  },
  {
   "cell_type": "code",
   "execution_count": 77,
   "id": "4f866095-29eb-44b0-9235-50b9482889d8",
   "metadata": {},
   "outputs": [],
   "source": [
    "## Remove"
   ]
  },
  {
   "cell_type": "code",
   "execution_count": 78,
   "id": "9787c536-f804-4302-9e5c-4f8fecdbecb8",
   "metadata": {},
   "outputs": [],
   "source": [
    "student_names.append(\"princess\")"
   ]
  },
  {
   "cell_type": "code",
   "execution_count": 79,
   "id": "9a51b2a8-d709-47cc-b5c4-73455c725a18",
   "metadata": {},
   "outputs": [
    {
     "data": {
      "text/plain": [
       "['olakunle',\n",
       " 'rhoda',\n",
       " 'soky',\n",
       " 'godwill',\n",
       " 'aj',\n",
       " 'nuel',\n",
       " 'shakira',\n",
       " 'better',\n",
       " 'prince',\n",
       " 'princess',\n",
       " 'oye',\n",
       " 'wura',\n",
       " 'tomisin',\n",
       " '506',\n",
       " 'princess']"
      ]
     },
     "execution_count": 79,
     "metadata": {},
     "output_type": "execute_result"
    }
   ],
   "source": [
    "student_names"
   ]
  },
  {
   "cell_type": "code",
   "execution_count": 80,
   "id": "d34f4530-a6d0-417d-a89b-699bad9d8d70",
   "metadata": {},
   "outputs": [],
   "source": [
    "## Remove"
   ]
  },
  {
   "cell_type": "code",
   "execution_count": 81,
   "id": "b61c6e3c-7b0e-4a3a-b238-a76f2e9e3e86",
   "metadata": {},
   "outputs": [],
   "source": [
    "student_names.remove(\"princess\")"
   ]
  },
  {
   "cell_type": "code",
   "execution_count": 82,
   "id": "f5aa860f-3cec-4128-baca-a1741b87330f",
   "metadata": {},
   "outputs": [
    {
     "data": {
      "text/plain": [
       "['olakunle',\n",
       " 'rhoda',\n",
       " 'soky',\n",
       " 'godwill',\n",
       " 'aj',\n",
       " 'nuel',\n",
       " 'shakira',\n",
       " 'better',\n",
       " 'prince',\n",
       " 'oye',\n",
       " 'wura',\n",
       " 'tomisin',\n",
       " '506',\n",
       " 'princess']"
      ]
     },
     "execution_count": 82,
     "metadata": {},
     "output_type": "execute_result"
    }
   ],
   "source": [
    "student_names"
   ]
  },
  {
   "cell_type": "code",
   "execution_count": 83,
   "id": "7beca047-fd20-4579-9fa1-94fb328769d3",
   "metadata": {},
   "outputs": [],
   "source": [
    "## Pop : It removes by using index number"
   ]
  },
  {
   "cell_type": "code",
   "execution_count": 84,
   "id": "0a0049c6-1963-4c9e-9f0b-8d8f9aa32a24",
   "metadata": {},
   "outputs": [
    {
     "data": {
      "text/plain": [
       "'tomisin'"
      ]
     },
     "execution_count": 84,
     "metadata": {},
     "output_type": "execute_result"
    }
   ],
   "source": [
    "student_names.pop(-3)"
   ]
  },
  {
   "cell_type": "code",
   "execution_count": 85,
   "id": "8b02a4a5-e29f-4d68-a215-f928124d74d3",
   "metadata": {},
   "outputs": [
    {
     "data": {
      "text/plain": [
       "['olakunle',\n",
       " 'rhoda',\n",
       " 'soky',\n",
       " 'godwill',\n",
       " 'aj',\n",
       " 'nuel',\n",
       " 'shakira',\n",
       " 'better',\n",
       " 'prince',\n",
       " 'oye',\n",
       " 'wura',\n",
       " '506',\n",
       " 'princess']"
      ]
     },
     "execution_count": 85,
     "metadata": {},
     "output_type": "execute_result"
    }
   ],
   "source": [
    "student_names"
   ]
  },
  {
   "cell_type": "code",
   "execution_count": null,
   "id": "2a524f27-6c2f-4a1e-8d1d-a93293bc68f7",
   "metadata": {},
   "outputs": [],
   "source": []
  },
  {
   "cell_type": "code",
   "execution_count": 86,
   "id": "4a4d1c2f-2d52-4326-9d47-4a290f495c79",
   "metadata": {},
   "outputs": [],
   "source": [
    "student_names1 = student_names.copy()"
   ]
  },
  {
   "cell_type": "code",
   "execution_count": 87,
   "id": "15aa4405-c171-41c1-b815-17fd1f86603a",
   "metadata": {},
   "outputs": [
    {
     "data": {
      "text/plain": [
       "['olakunle',\n",
       " 'rhoda',\n",
       " 'soky',\n",
       " 'godwill',\n",
       " 'aj',\n",
       " 'nuel',\n",
       " 'shakira',\n",
       " 'better',\n",
       " 'prince',\n",
       " 'oye',\n",
       " 'wura',\n",
       " '506',\n",
       " 'princess']"
      ]
     },
     "execution_count": 87,
     "metadata": {},
     "output_type": "execute_result"
    }
   ],
   "source": [
    "student_names1"
   ]
  },
  {
   "cell_type": "code",
   "execution_count": 88,
   "id": "f3c6895d-8327-486c-8152-56a2eb7c66fb",
   "metadata": {},
   "outputs": [],
   "source": [
    "## Delete to delete a content"
   ]
  },
  {
   "cell_type": "code",
   "execution_count": 89,
   "id": "c2ec6490-2b9e-496b-b292-420eb80c95e9",
   "metadata": {},
   "outputs": [],
   "source": [
    "del student_names"
   ]
  },
  {
   "cell_type": "code",
   "execution_count": 90,
   "id": "1e89b1b4-e544-429e-a609-44cac364dfc6",
   "metadata": {},
   "outputs": [
    {
     "data": {
      "text/plain": [
       "['olakunle',\n",
       " 'rhoda',\n",
       " 'soky',\n",
       " 'godwill',\n",
       " 'aj',\n",
       " 'nuel',\n",
       " 'shakira',\n",
       " 'better',\n",
       " 'prince',\n",
       " 'oye',\n",
       " 'wura',\n",
       " '506',\n",
       " 'princess']"
      ]
     },
     "execution_count": 90,
     "metadata": {},
     "output_type": "execute_result"
    }
   ],
   "source": [
    "student_names1"
   ]
  },
  {
   "cell_type": "code",
   "execution_count": 91,
   "id": "65269b20-4727-4b06-bd38-c21b7302d843",
   "metadata": {},
   "outputs": [
    {
     "ename": "NameError",
     "evalue": "name 'true' is not defined",
     "output_type": "error",
     "traceback": [
      "\u001b[1;31m---------------------------------------------------------------------------\u001b[0m",
      "\u001b[1;31mNameError\u001b[0m                                 Traceback (most recent call last)",
      "Cell \u001b[1;32mIn[91], line 1\u001b[0m\n\u001b[1;32m----> 1\u001b[0m my_list \u001b[38;5;241m=\u001b[39m [\u001b[38;5;124m\"\u001b[39m\u001b[38;5;124mmango\u001b[39m\u001b[38;5;124m\"\u001b[39m, \u001b[38;5;241m68.8\u001b[39m, \u001b[38;5;241m600\u001b[39m, true, false]\n",
      "\u001b[1;31mNameError\u001b[0m: name 'true' is not defined"
     ]
    }
   ],
   "source": [
    "my_list = [\"mango\", 68.8, 600, true, false]"
   ]
  },
  {
   "cell_type": "code",
   "execution_count": null,
   "id": "5421a740-f6d6-4c43-9ebf-4a3a5b34b270",
   "metadata": {},
   "outputs": [],
   "source": [
    "## Tuple"
   ]
  },
  {
   "cell_type": "code",
   "execution_count": null,
   "id": "d15ff55f-6211-417f-8f1f-616604db5e59",
   "metadata": {},
   "outputs": [],
   "source": [
    "fruits=(\"apple\" , \"mango\" , \"banana\" , \"orange\" , \"pawpaw\" , \"guava\" , \"cherry\" , \"grape\" , \"cashew\" , \"nut\")"
   ]
  },
  {
   "cell_type": "code",
   "execution_count": null,
   "id": "da954643-a450-4f7d-a437-279690d0cd3e",
   "metadata": {},
   "outputs": [],
   "source": [
    "type(fruits)"
   ]
  },
  {
   "cell_type": "code",
   "execution_count": null,
   "id": "40a38d2d-e2cf-45f1-a1c1-7ddc0516986e",
   "metadata": {},
   "outputs": [],
   "source": [
    "fruits[4]"
   ]
  },
  {
   "cell_type": "code",
   "execution_count": null,
   "id": "b5adc642-c431-48af-9761-5f7926019dd2",
   "metadata": {},
   "outputs": [],
   "source": [
    "fruits[-2]"
   ]
  },
  {
   "cell_type": "code",
   "execution_count": null,
   "id": "8319ca14-fc7b-40d5-bcc2-88af52175e1b",
   "metadata": {},
   "outputs": [],
   "source": [
    "fruits[2:8]"
   ]
  },
  {
   "cell_type": "markdown",
   "id": "2d5f0b68-ec02-4fa8-aa46-92312dc40cd7",
   "metadata": {},
   "source": [
    "## 7/12/2024"
   ]
  },
  {
   "cell_type": "markdown",
   "id": "e89ac310-2204-43a8-9956-43783a4f3362",
   "metadata": {},
   "source": [
    "## Converting tuple to list"
   ]
  },
  {
   "cell_type": "code",
   "execution_count": null,
   "id": "85e03c3b-7c5a-4e7d-8418-bfbe21b338a2",
   "metadata": {},
   "outputs": [],
   "source": [
    "fruits2 = list(fruits)"
   ]
  },
  {
   "cell_type": "code",
   "execution_count": null,
   "id": "7d928317-9f6c-4ddb-a3e7-0479c15cf846",
   "metadata": {},
   "outputs": [],
   "source": [
    "type(fruits2)"
   ]
  },
  {
   "cell_type": "code",
   "execution_count": null,
   "id": "3fbdd5a1-e7c4-45c0-90cb-a7b6e3338398",
   "metadata": {},
   "outputs": [],
   "source": [
    "fruits2.append(\"banana\")"
   ]
  },
  {
   "cell_type": "code",
   "execution_count": null,
   "id": "e1d72321-aa6f-427d-9c7a-42c46bdadd08",
   "metadata": {},
   "outputs": [],
   "source": [
    "fruits2"
   ]
  },
  {
   "cell_type": "code",
   "execution_count": null,
   "id": "45aa2c98-90b4-4f87-8c18-82e744eb19ee",
   "metadata": {},
   "outputs": [],
   "source": [
    "fruits = tuple(fruits2)"
   ]
  },
  {
   "cell_type": "code",
   "execution_count": null,
   "id": "349313bc-4675-4bb5-816b-fe964b482b01",
   "metadata": {},
   "outputs": [],
   "source": [
    "type(fruits2)"
   ]
  },
  {
   "cell_type": "code",
   "execution_count": null,
   "id": "9d78b9ac-bc51-46ff-8633-d52d4f034974",
   "metadata": {},
   "outputs": [],
   "source": [
    "fruits2"
   ]
  },
  {
   "cell_type": "code",
   "execution_count": null,
   "id": "7dab7a89-03fb-473a-863e-1140ffa9e202",
   "metadata": {},
   "outputs": [],
   "source": [
    "type(fruits2)"
   ]
  },
  {
   "cell_type": "markdown",
   "id": "08f4896e-547c-4dea-a8d0-a9902a8ae79e",
   "metadata": {},
   "source": [
    "## Set"
   ]
  },
  {
   "cell_type": "code",
   "execution_count": null,
   "id": "7030ce7a-ec25-4838-8db0-50c89e0bdde6",
   "metadata": {},
   "outputs": [],
   "source": [
    "my_set = {456, \"apple\", True, 46.9, False , 1, \"olabisi\", 0}"
   ]
  },
  {
   "cell_type": "code",
   "execution_count": null,
   "id": "83896895-8a19-4069-8aac-8568ca889f65",
   "metadata": {},
   "outputs": [],
   "source": [
    "len(my_set)"
   ]
  },
  {
   "cell_type": "code",
   "execution_count": null,
   "id": "db5901fa-788a-43db-8719-b524608b4dcb",
   "metadata": {},
   "outputs": [],
   "source": [
    "my_set"
   ]
  },
  {
   "cell_type": "markdown",
   "id": "415ab4d2-38a0-4cdc-a7c4-94e3d9aecbf0",
   "metadata": {},
   "source": [
    "## Adding to a set"
   ]
  },
  {
   "cell_type": "code",
   "execution_count": null,
   "id": "db872193-b57f-4385-a984-605959cb0c90",
   "metadata": {},
   "outputs": [],
   "source": [
    "my_set2 = {120, \"orange\", True, 23.6, False, 1, \"tomi\", 0}"
   ]
  },
  {
   "cell_type": "code",
   "execution_count": null,
   "id": "efdc12d4-779f-448c-a068-6ea769c62ebf",
   "metadata": {},
   "outputs": [],
   "source": [
    "my_set.update(my_set2)"
   ]
  },
  {
   "cell_type": "code",
   "execution_count": null,
   "id": "6000c283-00e0-468b-9ff9-3bd8960ca191",
   "metadata": {},
   "outputs": [],
   "source": [
    "my_set"
   ]
  },
  {
   "cell_type": "code",
   "execution_count": null,
   "id": "9cc9de07-d23f-488b-b533-1964b49d5b0c",
   "metadata": {},
   "outputs": [],
   "source": [
    "my_set.remove(\"orange\")"
   ]
  },
  {
   "cell_type": "code",
   "execution_count": null,
   "id": "3f8b8ae4-a7a5-48e3-837f-f6a2b6c81fe2",
   "metadata": {},
   "outputs": [],
   "source": [
    "my_set"
   ]
  },
  {
   "cell_type": "code",
   "execution_count": null,
   "id": "6c96335c-2b00-46c7-bb5e-0e2d59df94c5",
   "metadata": {},
   "outputs": [],
   "source": [
    "my_set3 = my_set.copy()"
   ]
  },
  {
   "cell_type": "code",
   "execution_count": null,
   "id": "0ba52646-b3dc-403a-abda-f14f03622d27",
   "metadata": {},
   "outputs": [],
   "source": [
    "my_set3"
   ]
  },
  {
   "cell_type": "code",
   "execution_count": null,
   "id": "1992213d-8307-4d67-ac84-b3a9f7825497",
   "metadata": {},
   "outputs": [],
   "source": [
    "## Clear"
   ]
  },
  {
   "cell_type": "code",
   "execution_count": null,
   "id": "f4008566-7512-431b-848c-904b33fe3a09",
   "metadata": {},
   "outputs": [],
   "source": [
    "my_set.clear()"
   ]
  },
  {
   "cell_type": "code",
   "execution_count": null,
   "id": "eed9d3ec-7234-48d9-925e-4b628c202a11",
   "metadata": {},
   "outputs": [],
   "source": [
    "my_set"
   ]
  },
  {
   "cell_type": "code",
   "execution_count": null,
   "id": "b0551dc0-28a6-46f7-9737-cf6155e1800a",
   "metadata": {},
   "outputs": [],
   "source": [
    "## Delete"
   ]
  },
  {
   "cell_type": "code",
   "execution_count": null,
   "id": "c0023fd4-3369-4679-b89a-612c1be92f94",
   "metadata": {},
   "outputs": [],
   "source": [
    "del my_set"
   ]
  },
  {
   "cell_type": "code",
   "execution_count": null,
   "id": "bdcf8b24-6de2-46b1-a315-f27abf19a61a",
   "metadata": {},
   "outputs": [],
   "source": [
    "my_set"
   ]
  },
  {
   "cell_type": "code",
   "execution_count": null,
   "id": "897e9bec-3798-4241-9471-312155a521c9",
   "metadata": {},
   "outputs": [],
   "source": [
    "## Set Joins"
   ]
  },
  {
   "cell_type": "code",
   "execution_count": null,
   "id": "e5ca6b6b-caef-44f9-adb3-9abf4ce52ecd",
   "metadata": {},
   "outputs": [],
   "source": [
    "set1 = {\"data science\", \"software dev\", \"data analysis\"}"
   ]
  },
  {
   "cell_type": "code",
   "execution_count": null,
   "id": "de75cf2e-d222-49f7-bd2a-2b7f79a1f859",
   "metadata": {},
   "outputs": [],
   "source": [
    "set2 = my_set3.union(set1)"
   ]
  },
  {
   "cell_type": "code",
   "execution_count": null,
   "id": "0125056a-efb9-44f5-a28b-4d7c7b483231",
   "metadata": {},
   "outputs": [],
   "source": [
    "set2"
   ]
  },
  {
   "cell_type": "code",
   "execution_count": null,
   "id": "1c4eb4a9-c818-4656-9f1e-cc859d58a052",
   "metadata": {},
   "outputs": [],
   "source": [
    "set4 = {78, 89.0, 67, \"energy\", False, 1}"
   ]
  },
  {
   "cell_type": "code",
   "execution_count": null,
   "id": "19d4993a-c87d-4f77-9464-24b9c15a380b",
   "metadata": {},
   "outputs": [],
   "source": [
    "set4"
   ]
  },
  {
   "cell_type": "code",
   "execution_count": null,
   "id": "8e743f7d-df7c-4ce6-be6d-d0e073a33a76",
   "metadata": {},
   "outputs": [],
   "source": [
    "set1"
   ]
  },
  {
   "cell_type": "code",
   "execution_count": null,
   "id": "d88ab0ba-18bf-4604-acfa-2286f931e9b7",
   "metadata": {},
   "outputs": [],
   "source": [
    "my_set3"
   ]
  },
  {
   "cell_type": "code",
   "execution_count": null,
   "id": "11d4b765-692f-45bb-bd4c-8a81e8be03ae",
   "metadata": {},
   "outputs": [],
   "source": [
    "set4 = set1.union(set1, my_set2, my_set3)"
   ]
  },
  {
   "cell_type": "code",
   "execution_count": null,
   "id": "80db1fc8-de32-4d08-81c3-429b7f1d4b1e",
   "metadata": {},
   "outputs": [],
   "source": [
    "set4"
   ]
  },
  {
   "cell_type": "code",
   "execution_count": null,
   "id": "03b3cd76-ad4e-4525-8033-930ba15fa4ec",
   "metadata": {},
   "outputs": [],
   "source": [
    "set5 = set1|my_set2|my_set3"
   ]
  },
  {
   "cell_type": "code",
   "execution_count": null,
   "id": "8606d26b-3b47-423d-8615-c0f425e70109",
   "metadata": {},
   "outputs": [],
   "source": [
    "set5"
   ]
  },
  {
   "cell_type": "markdown",
   "id": "d82133f2-e080-4820-9a9e-28d4fec9075a",
   "metadata": {},
   "source": [
    "## Intersection.  it returns a set that contains the similarity between two or more sets."
   ]
  },
  {
   "cell_type": "code",
   "execution_count": null,
   "id": "7a9b18fd-ce5e-45d0-a286-fde7e95fe351",
   "metadata": {},
   "outputs": [],
   "source": [
    "my_set2"
   ]
  },
  {
   "cell_type": "code",
   "execution_count": null,
   "id": "27edcc6d-2355-4097-a081-077972f1dfd7",
   "metadata": {},
   "outputs": [],
   "source": [
    "my_set3"
   ]
  },
  {
   "cell_type": "code",
   "execution_count": null,
   "id": "a06ae5db-c8bc-42e3-979a-cb6883f7e071",
   "metadata": {},
   "outputs": [],
   "source": [
    "inter_=my_set2.intersection(my_set3)"
   ]
  },
  {
   "cell_type": "code",
   "execution_count": null,
   "id": "9270b78d-4afd-440d-b981-07795cc78165",
   "metadata": {},
   "outputs": [],
   "source": [
    "inter_"
   ]
  },
  {
   "cell_type": "markdown",
   "id": "aa972930-8fa7-4815-a7a9-f99c23ac9e3e",
   "metadata": {},
   "source": [
    "## Difference. it returns all the items from the first set that are not present in the second set"
   ]
  },
  {
   "cell_type": "code",
   "execution_count": null,
   "id": "27f100c6-eb7c-47f2-b993-cef9a63b9c4b",
   "metadata": {},
   "outputs": [],
   "source": [
    "diff = my_set2.difference(my_set3)"
   ]
  },
  {
   "cell_type": "code",
   "execution_count": null,
   "id": "fcb7a0b0-d92f-4466-a583-494bfeea4cc5",
   "metadata": {},
   "outputs": [],
   "source": [
    "diff"
   ]
  },
  {
   "cell_type": "markdown",
   "id": "8a7924b6-845d-405b-b229-6efe1b9586ae",
   "metadata": {},
   "source": [
    "## Symmetric difference. returns a set that contains all items from both set, but not the items that are present in both sets."
   ]
  },
  {
   "cell_type": "code",
   "execution_count": null,
   "id": "61a0a00f-08d6-40b4-a20f-db8f736b99bb",
   "metadata": {},
   "outputs": [],
   "source": [
    "x = {\"apple\", \"banana\", \"cherry\"}\n",
    "y = {\"google\", \"microsoft\", \"apple\"}\n",
    "\n",
    "z = x.symmetric_difference(y) \n",
    "\n",
    "print(z)"
   ]
  },
  {
   "cell_type": "code",
   "execution_count": null,
   "id": "13470b05-ace5-4c19-a310-348ae62ccac3",
   "metadata": {},
   "outputs": [],
   "source": [
    "sym = my_set2.symmetric_difference(my_set3)"
   ]
  },
  {
   "cell_type": "code",
   "execution_count": null,
   "id": "c9973b24-eb24-4967-82a5-488bf604da4f",
   "metadata": {},
   "outputs": [],
   "source": [
    "sym"
   ]
  },
  {
   "cell_type": "markdown",
   "id": "f21d80da-ed9b-40f3-b0b9-0cebedafe4a0",
   "metadata": {},
   "source": [
    "## Dictionary. It is used to store data value in key and value pair"
   ]
  },
  {
   "cell_type": "code",
   "execution_count": null,
   "id": "713e5afa-ef8c-4add-ae01-508f615f7e79",
   "metadata": {},
   "outputs": [],
   "source": [
    "student_info = {\"name\": \"Adeyinka\",\"dob\": 2008, \"height\": 5.11, \"weight\": 750, \"complexion\": \"Fair\", \"country\": \"Nigerian\"}"
   ]
  },
  {
   "cell_type": "code",
   "execution_count": null,
   "id": "c81f0ca9-a649-45a6-a9d2-311dcce5716f",
   "metadata": {},
   "outputs": [],
   "source": [
    "student_info = {\"name\": [\"Adeyinka\",\"aj\",\"soky\",\"oye\"],\n",
    "                \"dob\": [2008,1998,2001,2005],\n",
    "                \"height\": [5.11,5.2,6.0,5.3],\n",
    "                \"weight\": [750,560,450,650],\n",
    "                \"complexion\": [\"Fair\",\"light\",\"dark\",\"caramel\"],\n",
    "                \"country\": [\"Nigerian\",\"American\",\"finnish\",\"English\"]}"
   ]
  },
  {
   "cell_type": "code",
   "execution_count": null,
   "id": "d427a878-3933-43ad-bcb4-365c22026cb4",
   "metadata": {},
   "outputs": [],
   "source": [
    "import pandas as pd\n",
    "## data=pd.DataFrame(student_info)"
   ]
  },
  {
   "cell_type": "code",
   "execution_count": null,
   "id": "342c2fec-5afa-4540-810a-154d785cb01a",
   "metadata": {},
   "outputs": [],
   "source": [
    "data = pd.DataFrame(student_info)"
   ]
  },
  {
   "cell_type": "code",
   "execution_count": null,
   "id": "47da5168-702c-4bc5-a79b-cd671932fbd3",
   "metadata": {
    "scrolled": true
   },
   "outputs": [],
   "source": [
    "data"
   ]
  },
  {
   "cell_type": "markdown",
   "id": "964c1520-eb23-4497-bcf0-caf849c05383",
   "metadata": {},
   "source": [
    "## Adding new columns"
   ]
  },
  {
   "cell_type": "code",
   "execution_count": null,
   "id": "365c1613-2fc3-48e5-9ddb-91b4477f076a",
   "metadata": {},
   "outputs": [],
   "source": [
    "student_info[\"hobby\"] = [\"football\", \"basketball\", \"swimming\", \"skydiving\"]"
   ]
  },
  {
   "cell_type": "code",
   "execution_count": null,
   "id": "7f953cbf-e5fb-45e8-b317-897c01668226",
   "metadata": {},
   "outputs": [],
   "source": []
  },
  {
   "cell_type": "code",
   "execution_count": null,
   "id": "2aaeba45-a158-486e-bfdc-1e76b632351b",
   "metadata": {},
   "outputs": [],
   "source": [
    "student_info[\"name\"].append(\"rhoda\"),\n",
    "student_info[\"dob\"].append(1985),\n",
    "student_info[\"height\"].append(5.8),\n",
    "student_info[\"weight\"].append(350),\n",
    "student_info[\"complexion\"].append(\"fair\"),\n",
    "student_info[\"country\"].append(\"nigerian\"),\n",
    "student_info[\"hobby\"].append(\"football\")"
   ]
  },
  {
   "cell_type": "code",
   "execution_count": null,
   "id": "26b8dd06-c34f-472a-ab00-1ea350dea99b",
   "metadata": {},
   "outputs": [],
   "source": [
    "import pandas as pd"
   ]
  },
  {
   "cell_type": "code",
   "execution_count": null,
   "id": "623849c4-0c5c-4270-b84c-a372441170c0",
   "metadata": {},
   "outputs": [],
   "source": [
    "pd.DataFrame(student_info)"
   ]
  },
  {
   "cell_type": "markdown",
   "id": "33f22544-8405-4855-b4a6-a5d10e07b3b5",
   "metadata": {},
   "source": []
  },
  {
   "cell_type": "code",
   "execution_count": null,
   "id": "620f4f17-e186-452a-b38a-0a6a64160399",
   "metadata": {},
   "outputs": [],
   "source": []
  },
  {
   "cell_type": "code",
   "execution_count": null,
   "id": "9653e4ff-c3fd-4df0-96d2-ba13ec1cc265",
   "metadata": {},
   "outputs": [],
   "source": [
    "import pandas as pd"
   ]
  },
  {
   "cell_type": "code",
   "execution_count": null,
   "id": "3a96ea03-1b35-4799-a53a-508e0eb5a646",
   "metadata": {},
   "outputs": [],
   "source": [
    "data = pd.DataFrame(student_info)"
   ]
  },
  {
   "cell_type": "code",
   "execution_count": null,
   "id": "be7bd9ed-6827-4988-b350-7ea5271a2633",
   "metadata": {},
   "outputs": [],
   "source": [
    "data"
   ]
  },
  {
   "cell_type": "code",
   "execution_count": null,
   "id": "84564bee-8e59-4e3e-8d3f-a14ffa2680ea",
   "metadata": {},
   "outputs": [],
   "source": [
    "## Adding an extra row to the data"
   ]
  },
  {
   "cell_type": "code",
   "execution_count": null,
   "id": "25b69761-3ddc-4fc1-b99e-34e2303ac582",
   "metadata": {},
   "outputs": [],
   "source": [
    "data.loc[len(data)] = [\"fatima\", 2013, 4.98, 665, \"brown skinned\", \"liberia\", \"football\"]"
   ]
  },
  {
   "cell_type": "code",
   "execution_count": null,
   "id": "040c0bc2-857e-4124-8cc9-379b370117be",
   "metadata": {},
   "outputs": [],
   "source": [
    "data"
   ]
  },
  {
   "cell_type": "markdown",
   "id": "09858bdb-2f7d-48cf-9445-d70193dea6ba",
   "metadata": {},
   "source": [
    "## Editing row values"
   ]
  },
  {
   "cell_type": "code",
   "execution_count": null,
   "id": "b1bb6577-f206-4643-885f-a0f10da1cdf4",
   "metadata": {},
   "outputs": [],
   "source": [
    "data.loc[4, \"country\"] = \"ghanaian\""
   ]
  },
  {
   "cell_type": "code",
   "execution_count": null,
   "id": "0a87b081-ab0d-4376-9a52-78cd3962e188",
   "metadata": {},
   "outputs": [],
   "source": [
    "data"
   ]
  },
  {
   "cell_type": "code",
   "execution_count": null,
   "id": "86ad3045-4697-4b15-9ca6-bcc363513d45",
   "metadata": {},
   "outputs": [],
   "source": [
    "data.loc[4, \"star\"] = \"gemini\""
   ]
  },
  {
   "cell_type": "code",
   "execution_count": null,
   "id": "fa7fc89a-98eb-420d-9b65-1887c6929ade",
   "metadata": {},
   "outputs": [],
   "source": [
    "data"
   ]
  },
  {
   "cell_type": "code",
   "execution_count": null,
   "id": "1dcdda27-1971-43e5-9323-ccc7192ecb82",
   "metadata": {},
   "outputs": [],
   "source": [
    "data=data.drop(\"star\",axis=1)"
   ]
  },
  {
   "cell_type": "code",
   "execution_count": null,
   "id": "1a92d7f9-2fb1-4d12-9278-62e64907e758",
   "metadata": {},
   "outputs": [],
   "source": [
    "data"
   ]
  },
  {
   "cell_type": "markdown",
   "id": "249059d9-9ce8-4895-8273-70baf8f6264f",
   "metadata": {},
   "source": [
    "## Changing the entire values of a row"
   ]
  },
  {
   "cell_type": "code",
   "execution_count": null,
   "id": "43d12ee5-beab-4e8b-8c0c-6c7872da7e65",
   "metadata": {},
   "outputs": [],
   "source": [
    "data.loc[4] = [\"alhaja\", 2007, 5.7, 730, \"fair\", \"polish\", \"touring\"]"
   ]
  },
  {
   "cell_type": "code",
   "execution_count": null,
   "id": "15b61983-db57-4764-bbca-e3126a0339ea",
   "metadata": {},
   "outputs": [],
   "source": [
    "data"
   ]
  },
  {
   "cell_type": "markdown",
   "id": "56998a8f-2697-49ac-a3f4-f3eaf5aca7bb",
   "metadata": {},
   "source": [
    "## Renaming column to a different name"
   ]
  },
  {
   "cell_type": "code",
   "execution_count": null,
   "id": "6e6662b6-3bd8-47b4-b510-348a4369c3e3",
   "metadata": {},
   "outputs": [],
   "source": [
    "data = data.rename({\"dob\": \"date of birth\"}, axis = 1)"
   ]
  },
  {
   "cell_type": "code",
   "execution_count": null,
   "id": "e417b143-dc96-479e-9c62-3e0374fb8711",
   "metadata": {},
   "outputs": [],
   "source": [
    "data"
   ]
  },
  {
   "cell_type": "code",
   "execution_count": null,
   "id": "42127f01-467f-4391-b580-6be767b16744",
   "metadata": {},
   "outputs": [],
   "source": [
    "data.loc[1, \"date of birth\"] = 2005"
   ]
  },
  {
   "cell_type": "code",
   "execution_count": null,
   "id": "2786e51b-3539-41e5-b1f3-25d9463648fb",
   "metadata": {},
   "outputs": [],
   "source": [
    "data"
   ]
  },
  {
   "cell_type": "markdown",
   "id": "e222e4a1-1ec5-4353-8f2e-280b10917d83",
   "metadata": {},
   "source": [
    "## If Statement"
   ]
  },
  {
   "cell_type": "markdown",
   "id": "b7331658-0803-46d2-8286-72c648777d37",
   "metadata": {},
   "source": [
    "## IF"
   ]
  },
  {
   "cell_type": "code",
   "execution_count": null,
   "id": "8d94a101-d9a6-4ef5-b0f5-a985d605147e",
   "metadata": {},
   "outputs": [],
   "source": [
    "age = 17\n",
    "\n",
    "if age ==18:\n",
    "    print(\"You are Qualified to be part of the competition\")\n",
    "\n",
    "\n",
    "else:\n",
    "    print(\"You are not Qualified to be part of the competition\")\n",
    "    \n"
   ]
  },
  {
   "cell_type": "markdown",
   "id": "db8ff640-62c6-4ce8-a8df-ecb1fd4c451a",
   "metadata": {},
   "source": [
    "## Else"
   ]
  },
  {
   "cell_type": "code",
   "execution_count": null,
   "id": "040cf17c-c92b-446f-b71a-dcf42042436e",
   "metadata": {},
   "outputs": [],
   "source": [
    "age = 34\n",
    "\n",
    "if age ==18:\n",
    "    print(\"You are not Qualified to be part of the competition\")\n",
    "elif age > 18:\n",
    "    print(\"You are more than qualified to be part of the competition\")\n",
    "else:\n",
    "    print(\"You are not Qualified to be part of the competition\")\n",
    "    "
   ]
  },
  {
   "cell_type": "code",
   "execution_count": null,
   "id": "111370dd-a368-44d1-9b47-7d11e506d1c7",
   "metadata": {},
   "outputs": [],
   "source": []
  },
  {
   "cell_type": "code",
   "execution_count": null,
   "id": "73aa96b5-8a4f-45a7-9458-2bcb480774f0",
   "metadata": {},
   "outputs": [],
   "source": [
    "age = 35\n",
    "if age % 2 ==0:\n",
    "    print(\"even\")\n",
    "else:\n",
    "    print(\"odd\")"
   ]
  },
  {
   "cell_type": "code",
   "execution_count": null,
   "id": "2146571c-5164-4339-a365-5cbb9347eaeb",
   "metadata": {},
   "outputs": [],
   "source": [
    "score = 100\n",
    "if score <45:\n",
    "    print(\"failed\")\n",
    "elif score >=45 and score <=60:\n",
    "    print(\"average\")\n",
    "elif score >=61 and score <=80:\n",
    "    print(\"very good\")\n",
    "else:\n",
    "    print(\"excellent\")"
   ]
  },
  {
   "cell_type": "code",
   "execution_count": null,
   "id": "71c4a8d9-5cb6-4ff9-9c68-37db623a3dcc",
   "metadata": {},
   "outputs": [],
   "source": [
    "score = int(input(\"enter a number\"))\n",
    "if score <45:\n",
    "    print(\"failed\")\n",
    "elif score >=45 and score <=60:\n",
    "    print(\"average\")\n",
    "elif score >=61 and score <=80:\n",
    "    print(\"very good\")\n",
    "else:\n",
    "    print(\"excellent\")"
   ]
  },
  {
   "cell_type": "code",
   "execution_count": null,
   "id": "b5793b55-59ee-47ab-a071-c5b828e578c7",
   "metadata": {},
   "outputs": [],
   "source": [
    "password = \"oye\"\n",
    "in_put = str(input(\"enter a number\"))\n",
    "if in_put == password:\n",
    "    print(\"correct\")\n",
    "else:\n",
    "    print(\"incorrect\")\n",
    "\n"
   ]
  },
  {
   "cell_type": "code",
   "execution_count": null,
   "id": "1b3cc7ae-a325-4310-9871-be00d4376a20",
   "metadata": {},
   "outputs": [],
   "source": [
    "password = \"oye\"\n",
    "in_put = str(input(\"enter a number\"))\n",
    "if in_put == password:\n",
    "    print(\"correct\")\n",
    "else:\n",
    "    print(\"incorrect\")"
   ]
  },
  {
   "cell_type": "markdown",
   "id": "94c37424-5a19-44c6-abd6-f9782d563088",
   "metadata": {},
   "source": [
    "## Loops"
   ]
  },
  {
   "cell_type": "code",
   "execution_count": null,
   "id": "8a51e556-bda0-48f5-9198-cb9d2fb581be",
   "metadata": {},
   "outputs": [],
   "source": [
    "countries = [\"kenya\",\"nigeria\",\"japan\",\"togo\",\"bosnia\",\"south korea\",\"germany\",\"argentina\",\"kosovo\",\"belarus\"]"
   ]
  },
  {
   "cell_type": "code",
   "execution_count": null,
   "id": "ca08b5ac-9f98-47ef-b69b-ff5c887349bc",
   "metadata": {},
   "outputs": [],
   "source": [
    "for i in countries:\n",
    "    print(i)"
   ]
  },
  {
   "cell_type": "code",
   "execution_count": null,
   "id": "c7a975a2-f09e-40ad-8156-36ad9fe5aa24",
   "metadata": {},
   "outputs": [],
   "source": [
    "for i in range(1,11):\n",
    "    print(i)"
   ]
  },
  {
   "cell_type": "code",
   "execution_count": null,
   "id": "5a399515-03d3-45ac-a82b-874c8b2944f6",
   "metadata": {},
   "outputs": [],
   "source": [
    "for i in range(1,11,2):\n",
    "    print(i)"
   ]
  },
  {
   "cell_type": "code",
   "execution_count": null,
   "id": "e91460ac-59d3-47a8-b639-30a5731bc4fe",
   "metadata": {},
   "outputs": [],
   "source": [
    "for i in range(2,11,2):\n",
    "    print(i)\n",
    "\n",
    "    "
   ]
  },
  {
   "cell_type": "code",
   "execution_count": null,
   "id": "548a2c98-b8d3-4551-af1f-cd16e9e4ab63",
   "metadata": {},
   "outputs": [],
   "source": [
    "for i in range(1,11,2):\n",
    "    print(i)"
   ]
  },
  {
   "cell_type": "code",
   "execution_count": null,
   "id": "11c27c2c-37b5-4be5-ae5b-d4114690e1bb",
   "metadata": {},
   "outputs": [],
   "source": [
    "for i in range(2,11):\n",
    "    if i % 2 ==0:\n",
    "        print(i)"
   ]
  },
  {
   "cell_type": "markdown",
   "id": "7a5a4830-33a3-457a-98a8-67a9c8320cd1",
   "metadata": {},
   "source": [
    "## While"
   ]
  },
  {
   "cell_type": "markdown",
   "id": "a013805f-ef43-4c13-9191-2d4be6074b08",
   "metadata": {},
   "source": [
    "## Print i as long as it is less than 6\n"
   ]
  },
  {
   "cell_type": "code",
   "execution_count": 120,
   "id": "496ec880-b56e-45eb-8bc2-79d3e726e4ea",
   "metadata": {},
   "outputs": [
    {
     "name": "stdout",
     "output_type": "stream",
     "text": [
      "1\n",
      "2\n",
      "3\n",
      "4\n",
      "5\n"
     ]
    }
   ],
   "source": [
    "i = 1\n",
    "while i < 6:\n",
    "  print(i)\n",
    "  i += 1"
   ]
  },
  {
   "cell_type": "code",
   "execution_count": 1,
   "id": "bafd4095-7fe1-4689-b588-38758511030b",
   "metadata": {},
   "outputs": [
    {
     "name": "stdout",
     "output_type": "stream",
     "text": [
      "0\n",
      "1\n",
      "2\n",
      "3\n",
      "4\n"
     ]
    }
   ],
   "source": [
    "count = 0\n",
    "while count < 5:\n",
    "    print(count)\n",
    "    count = count + 1"
   ]
  },
  {
   "cell_type": "code",
   "execution_count": 3,
   "id": "dd83710f-4f73-43ee-90f9-5e252144c97a",
   "metadata": {},
   "outputs": [
    {
     "name": "stdout",
     "output_type": "stream",
     "text": [
      "3\n",
      "5\n",
      "7\n",
      "9\n"
     ]
    }
   ],
   "source": [
    "num = 3\n",
    "while num <10:\n",
    "    print(num)\n",
    "    num = num+2"
   ]
  },
  {
   "cell_type": "markdown",
   "id": "2a6a238e-0b8c-479d-81d1-9a0304c7379d",
   "metadata": {},
   "source": [
    "## Break"
   ]
  },
  {
   "cell_type": "code",
   "execution_count": 11,
   "id": "2c87e024-7d7b-44bc-a8f6-d2cc5f798b59",
   "metadata": {},
   "outputs": [
    {
     "name": "stdout",
     "output_type": "stream",
     "text": [
      "1\n",
      "2\n"
     ]
    }
   ],
   "source": [
    "for i in range(1,20):\n",
    "    if i == 3:\n",
    "        break\n",
    "    print(i)"
   ]
  },
  {
   "cell_type": "code",
   "execution_count": 13,
   "id": "c2a73d1c-b4d0-448a-bae4-d26866fd7dba",
   "metadata": {},
   "outputs": [
    {
     "name": "stdout",
     "output_type": "stream",
     "text": [
      "1\n",
      "2\n",
      "4\n",
      "5\n",
      "6\n",
      "7\n",
      "8\n",
      "9\n",
      "10\n",
      "11\n",
      "12\n",
      "13\n",
      "14\n",
      "15\n",
      "16\n",
      "17\n",
      "18\n",
      "19\n"
     ]
    }
   ],
   "source": [
    "for i in range(1,20):\n",
    "    if i == 3:\n",
    "        continue\n",
    "    print(i)"
   ]
  },
  {
   "cell_type": "code",
   "execution_count": 15,
   "id": "23df06f5-9f4c-408c-8946-c46bfaa0c14d",
   "metadata": {},
   "outputs": [
    {
     "name": "stdout",
     "output_type": "stream",
     "text": [
      "19\n"
     ]
    }
   ],
   "source": [
    "for i in range(1,20):\n",
    "    if i == 3:\n",
    "        continue\n",
    "print(i)"
   ]
  },
  {
   "cell_type": "code",
   "execution_count": 35,
   "id": "d838cdaf-dd22-4119-b60a-f9d5c66224e0",
   "metadata": {},
   "outputs": [
    {
     "name": "stdout",
     "output_type": "stream",
     "text": [
      "3\n"
     ]
    }
   ],
   "source": [
    "for i in range(1,20):\n",
    "    if i == 3:\n",
    "        break\n",
    "print(i)"
   ]
  },
  {
   "cell_type": "markdown",
   "id": "156f9d06-a4ad-4b75-8745-618d64b0cf43",
   "metadata": {},
   "source": [
    "## Function"
   ]
  },
  {
   "cell_type": "code",
   "execution_count": 45,
   "id": "8bbb321e-a43c-4b8d-b932-ce39f529e928",
   "metadata": {},
   "outputs": [],
   "source": [
    "def Add(a,b):\n",
    "    result = a+b\n",
    "    return result"
   ]
  },
  {
   "cell_type": "code",
   "execution_count": 53,
   "id": "d39aa386-7452-4da1-a2a3-6a950321638e",
   "metadata": {},
   "outputs": [
    {
     "data": {
      "text/plain": [
       "13"
      ]
     },
     "execution_count": 53,
     "metadata": {},
     "output_type": "execute_result"
    }
   ],
   "source": [
    "Add(6,7)"
   ]
  },
  {
   "cell_type": "code",
   "execution_count": 59,
   "id": "7a1258f5-7ef2-49c2-98ee-a6fe8a083471",
   "metadata": {},
   "outputs": [],
   "source": [
    "def Add(a,b,c):\n",
    "    result = a+b+c\n",
    "    return result"
   ]
  },
  {
   "cell_type": "code",
   "execution_count": 61,
   "id": "b7df81f6-72d9-467b-8a95-062a901824d2",
   "metadata": {},
   "outputs": [
    {
     "data": {
      "text/plain": [
       "6"
      ]
     },
     "execution_count": 61,
     "metadata": {},
     "output_type": "execute_result"
    }
   ],
   "source": [
    "Add(1,2,3)"
   ]
  },
  {
   "cell_type": "code",
   "execution_count": 65,
   "id": "9e0acba1-7cd8-4b85-9e3b-a1b4e6427aa6",
   "metadata": {},
   "outputs": [],
   "source": [
    "def subtract(a,b):\n",
    "    result = a-b\n",
    "    return result"
   ]
  },
  {
   "cell_type": "code",
   "execution_count": 69,
   "id": "2f246fdb-dffc-4e40-ba80-19b254cb4988",
   "metadata": {},
   "outputs": [
    {
     "data": {
      "text/plain": [
       "3"
      ]
     },
     "execution_count": 69,
     "metadata": {},
     "output_type": "execute_result"
    }
   ],
   "source": [
    "subtract(6,3)"
   ]
  },
  {
   "cell_type": "code",
   "execution_count": 111,
   "id": "18c0cfab-1d23-48ed-935e-0d8f761fa664",
   "metadata": {},
   "outputs": [],
   "source": [
    "def Add(a,b):\n",
    "    result = a+b\n",
    "    return result"
   ]
  },
  {
   "cell_type": "code",
   "execution_count": 73,
   "id": "3ad346d8-8516-4c32-ab72-58758b183e81",
   "metadata": {},
   "outputs": [
    {
     "data": {
      "text/plain": [
       "30"
      ]
     },
     "execution_count": 73,
     "metadata": {},
     "output_type": "execute_result"
    }
   ],
   "source": [
    "multiply(10,3)"
   ]
  },
  {
   "cell_type": "code",
   "execution_count": 75,
   "id": "7f71faaf-afd2-41fd-bd15-346559fec6e6",
   "metadata": {},
   "outputs": [],
   "source": [
    "def divide(a,b):\n",
    "    result = a%b\n",
    "    return result"
   ]
  },
  {
   "cell_type": "code",
   "execution_count": 77,
   "id": "dc6cf11f-cec7-4791-ab50-e98ec7d6f574",
   "metadata": {},
   "outputs": [
    {
     "data": {
      "text/plain": [
       "1"
      ]
     },
     "execution_count": 77,
     "metadata": {},
     "output_type": "execute_result"
    }
   ],
   "source": [
    "divide(7,3)"
   ]
  },
  {
   "cell_type": "code",
   "execution_count": 79,
   "id": "be55e820-4659-406c-a65f-8fea4779fc9e",
   "metadata": {},
   "outputs": [],
   "source": [
    "def divide(a,b):\n",
    "    result = a/b\n",
    "    return result"
   ]
  },
  {
   "cell_type": "code",
   "execution_count": 81,
   "id": "42185824-f617-4514-b943-48ec9bea17b2",
   "metadata": {},
   "outputs": [
    {
     "data": {
      "text/plain": [
       "2.3333333333333335"
      ]
     },
     "execution_count": 81,
     "metadata": {},
     "output_type": "execute_result"
    }
   ],
   "source": [
    "divide(7,3)"
   ]
  },
  {
   "cell_type": "markdown",
   "id": "c324d34a-ebd2-42af-815c-81669b80c569",
   "metadata": {},
   "source": [
    "## Function with undisclosed arguments"
   ]
  },
  {
   "cell_type": "markdown",
   "id": "5d642110-91b8-4df2-8220-784b351750cd",
   "metadata": {},
   "source": [
    "## Step 1"
   ]
  },
  {
   "cell_type": "code",
   "execution_count": 91,
   "id": "0c600bcd-89ed-4fd0-a7c6-237c9229af9f",
   "metadata": {},
   "outputs": [],
   "source": [
    "def plus_numbers(*args):\n",
    "    number = 0\n",
    "    for i in args:\n",
    "        number += i\n",
    "    return number"
   ]
  },
  {
   "cell_type": "code",
   "execution_count": 95,
   "id": "fa8fa256-9a4b-4cb5-9289-58b23ec6c07c",
   "metadata": {},
   "outputs": [
    {
     "data": {
      "text/plain": [
       "45"
      ]
     },
     "execution_count": 95,
     "metadata": {},
     "output_type": "execute_result"
    }
   ],
   "source": [
    "plus_numbers(1,2,3,4,5,6,7,8,9)"
   ]
  },
  {
   "cell_type": "markdown",
   "id": "dc24c790-113d-4198-8e8e-4098578b0002",
   "metadata": {},
   "source": [
    "## Step 2"
   ]
  },
  {
   "cell_type": "code",
   "execution_count": 107,
   "id": "f39912b2-6a23-41ed-b3a2-4e35d48df80f",
   "metadata": {},
   "outputs": [],
   "source": [
    "def plus_numbers_(*args):\n",
    "    return(sum(args))\n",
    "    "
   ]
  },
  {
   "cell_type": "code",
   "execution_count": 109,
   "id": "d9caee92-dd1c-4b08-b9e6-310a645d27fd",
   "metadata": {},
   "outputs": [
    {
     "data": {
      "text/plain": [
       "45"
      ]
     },
     "execution_count": 109,
     "metadata": {},
     "output_type": "execute_result"
    }
   ],
   "source": [
    "plus_numbers_(1,2,3,4,5,6,7,8,9)"
   ]
  },
  {
   "cell_type": "code",
   "execution_count": 141,
   "id": "dbfa2374-dcc0-4bad-af66-ccb2544c4991",
   "metadata": {},
   "outputs": [],
   "source": [
    "def multiply_numbers(*args):\n",
    "    number = 1\n",
    "    for i in args:\n",
    "        number *= i\n",
    "    return number"
   ]
  },
  {
   "cell_type": "code",
   "execution_count": 143,
   "id": "afb9bc99-23bd-479c-ba88-ad0e5443951a",
   "metadata": {},
   "outputs": [
    {
     "data": {
      "text/plain": [
       "362880"
      ]
     },
     "execution_count": 143,
     "metadata": {},
     "output_type": "execute_result"
    }
   ],
   "source": [
    "multiply_numbers(1,2,3,4,5,6,7,8,9)"
   ]
  },
  {
   "cell_type": "code",
   "execution_count": 156,
   "id": "4771527c-711d-49e9-9899-a09d852b3f06",
   "metadata": {},
   "outputs": [],
   "source": [
    "def number(*args):\n",
    "    return(max(args))"
   ]
  },
  {
   "cell_type": "code",
   "execution_count": 158,
   "id": "6390ba26-9c37-424d-900d-ae210d641087",
   "metadata": {},
   "outputs": [
    {
     "data": {
      "text/plain": [
       "5"
      ]
     },
     "execution_count": 158,
     "metadata": {},
     "output_type": "execute_result"
    }
   ],
   "source": [
    "number(1,2,3,4,5)"
   ]
  },
  {
   "cell_type": "code",
   "execution_count": 233,
   "id": "2f662bae-1a73-448d-acdd-26616c05f8dd",
   "metadata": {},
   "outputs": [],
   "source": [
    "def subtract(a,b):\n",
    "    result = a-b\n",
    "    return result"
   ]
  },
  {
   "cell_type": "code",
   "execution_count": 237,
   "id": "a3833337-fead-4038-b2fb-c9f7dba98354",
   "metadata": {},
   "outputs": [
    {
     "data": {
      "text/plain": [
       "3"
      ]
     },
     "execution_count": 237,
     "metadata": {},
     "output_type": "execute_result"
    }
   ],
   "source": [
    "subtract(6,3)"
   ]
  },
  {
   "cell_type": "code",
   "execution_count": 160,
   "id": "da8bbea5-080a-42fb-a62e-ceabdc1fb8a8",
   "metadata": {},
   "outputs": [],
   "source": [
    "def number(*args):\n",
    "    return(min(args))"
   ]
  },
  {
   "cell_type": "code",
   "execution_count": 162,
   "id": "17ef5b5f-8a05-446f-bc8c-e7e2b3a27dbb",
   "metadata": {},
   "outputs": [
    {
     "data": {
      "text/plain": [
       "1"
      ]
     },
     "execution_count": 162,
     "metadata": {},
     "output_type": "execute_result"
    }
   ],
   "source": [
    "number(1,2,3,4,5)"
   ]
  },
  {
   "cell_type": "code",
   "execution_count": 185,
   "id": "d1bdb187-de25-4071-8258-698f50449b10",
   "metadata": {},
   "outputs": [],
   "source": [
    "def number(*args):\n",
    "    return(len(args))"
   ]
  },
  {
   "cell_type": "code",
   "execution_count": 193,
   "id": "450b7b45-b7db-4534-baed-ee537365cb64",
   "metadata": {},
   "outputs": [
    {
     "data": {
      "text/plain": [
       "11"
      ]
     },
     "execution_count": 193,
     "metadata": {},
     "output_type": "execute_result"
    }
   ],
   "source": [
    "number(1,2,3,4,5,6,7,8,9,10,11)"
   ]
  },
  {
   "cell_type": "markdown",
   "id": "10a99918-bec0-4fa0-863e-e69c50885d94",
   "metadata": {},
   "source": [
    "## Creating function with lambda"
   ]
  },
  {
   "cell_type": "code",
   "execution_count": 209,
   "id": "5f09edde-02be-4d24-b9e5-be380dfb3da3",
   "metadata": {},
   "outputs": [],
   "source": [
    "Addition = lambda x, y: x + y"
   ]
  },
  {
   "cell_type": "code",
   "execution_count": 211,
   "id": "26c14294-d8b5-4701-8442-496f1c86ba11",
   "metadata": {},
   "outputs": [
    {
     "data": {
      "text/plain": [
       "17"
      ]
     },
     "execution_count": 211,
     "metadata": {},
     "output_type": "execute_result"
    }
   ],
   "source": [
    "Addition(9,8)"
   ]
  },
  {
   "cell_type": "code",
   "execution_count": 227,
   "id": "970f7ca0-8dd0-4a37-8121-ca8663868e7e",
   "metadata": {},
   "outputs": [],
   "source": [
    "subtraction = lambda x, y: x-y"
   ]
  },
  {
   "cell_type": "code",
   "execution_count": 229,
   "id": "a204b375-3068-4736-9e78-85a3918b67cd",
   "metadata": {},
   "outputs": [
    {
     "data": {
      "text/plain": [
       "5"
      ]
     },
     "execution_count": 229,
     "metadata": {},
     "output_type": "execute_result"
    }
   ],
   "source": [
    "subtraction(10,5)"
   ]
  },
  {
   "cell_type": "code",
   "execution_count": null,
   "id": "557a3deb-1b6b-4ffc-bc52-5d1b26ff8535",
   "metadata": {},
   "outputs": [],
   "source": [
    "fifa['Value']=fifa['Value'].fillna(fifa['Value'].mean())"
   ]
  },
  {
   "cell_type": "code",
   "execution_count": null,
   "id": "4ab44464-1865-4538-aa1f-78da9c01677e",
   "metadata": {},
   "outputs": [],
   "source": [
    "fifa['Release Clause']=fifa['Release Clause'].astype(int)"
   ]
  },
  {
   "cell_type": "code",
   "execution_count": null,
   "id": "2e4d60d1-df24-4536-93c7-3dfd9df84b3e",
   "metadata": {},
   "outputs": [],
   "source": []
  }
 ],
 "metadata": {
  "kernelspec": {
   "display_name": "Python [conda env:base] *",
   "language": "python",
   "name": "conda-base-py"
  },
  "language_info": {
   "codemirror_mode": {
    "name": "ipython",
    "version": 3
   },
   "file_extension": ".py",
   "mimetype": "text/x-python",
   "name": "python",
   "nbconvert_exporter": "python",
   "pygments_lexer": "ipython3",
   "version": "3.12.7"
  }
 },
 "nbformat": 4,
 "nbformat_minor": 5
}
